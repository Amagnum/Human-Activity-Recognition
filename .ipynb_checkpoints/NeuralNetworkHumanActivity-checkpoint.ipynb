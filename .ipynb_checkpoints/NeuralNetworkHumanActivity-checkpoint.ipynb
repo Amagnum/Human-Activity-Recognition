{
 "cells": [
  {
   "cell_type": "code",
   "execution_count": null,
   "id": "9112b323-1323-4d8b-98ef-6c41995c0609",
   "metadata": {
    "id": "69445a8a-c518-420e-a31f-7f51098ee064"
   },
   "outputs": [],
   "source": [
    "# from google.colab import drive\n",
    "# drive.mount('/content/drive')"
   ]
  },
  {
   "cell_type": "code",
   "execution_count": null,
   "id": "Jq-C-1-urUit",
   "metadata": {
    "id": "Jq-C-1-urUit"
   },
   "outputs": [],
   "source": [
    "# Load the TensorBoard notebook extension\n",
    "%reload_ext tensorboard\n",
    "# Clear any logs from previous runs\n",
    "!rm -rf ./logs/ "
   ]
  },
  {
   "cell_type": "code",
   "execution_count": null,
   "id": "d681db63-384c-40da-9f3f-3d6c30f55421",
   "metadata": {
    "id": "d681db63-384c-40da-9f3f-3d6c30f55421"
   },
   "outputs": [],
   "source": [
    "import tensorflow as tf\n",
    "from tensorflow import keras\n",
    "import matplotlib.pyplot as plt\n",
    "%matplotlib inline\n",
    "import numpy as np\n",
    "import pandas as pd\n",
    "import datetime\n",
    "import seaborn as sns\n",
    "from collections import Counter\n",
    "from cycler import cycler"
   ]
  },
  {
   "cell_type": "code",
   "execution_count": null,
   "id": "_jehvUWmo8W5",
   "metadata": {
    "id": "_jehvUWmo8W5"
   },
   "outputs": [],
   "source": [
    "csv_test_path = \"test.csv\"\n",
    "csv_train_path = \"train.csv\"\n",
    "# csv_test_path = \"/content/drive/MyDrive/ci_minor_project/test.csv\"\n",
    "# csv_train_path = \"/content/drive/MyDrive/ci_minor_project/train.csv\""
   ]
  },
  {
   "cell_type": "code",
   "execution_count": null,
   "id": "0fb0f8b5-16db-407f-887f-72c3b8b34995",
   "metadata": {
    "id": "0fb0f8b5-16db-407f-887f-72c3b8b34995"
   },
   "outputs": [],
   "source": [
    "activity_mapping = {'LAYING': 0,\n",
    " 'SITTING': 1,\n",
    " 'STANDING': 2,\n",
    " 'WALKING': 3,\n",
    " 'WALKING_DOWNSTAIRS': 4,\n",
    " 'WALKING_UPSTAIRS': 5}"
   ]
  },
  {
   "cell_type": "code",
   "execution_count": null,
   "id": "454c38f4-585f-4893-a2b9-d51b61b3838f",
   "metadata": {
    "id": "454c38f4-585f-4893-a2b9-d51b61b3838f"
   },
   "outputs": [],
   "source": [
    "train_dataset = pd.read_csv(csv_train_path)\n",
    "train_dataset[\"Output\"] = [activity_mapping[item] for item in train_dataset.Activity]\n",
    "train_dataset = train_dataset.sample(frac=1)\n",
    "train_dataset.head()"
   ]
  },
  {
   "cell_type": "code",
   "execution_count": null,
   "id": "jXQwAtp7Gc0D",
   "metadata": {
    "id": "jXQwAtp7Gc0D"
   },
   "outputs": [],
   "source": [
    "test_dataset = pd.read_csv(csv_test_path)\n",
    "test_dataset[\"Output\"] = [activity_mapping[item] for item in test_dataset.Activity]\n",
    "test_dataset = test_dataset.sample(frac=1)\n",
    "test_dataset.head()"
   ]
  },
  {
   "cell_type": "code",
   "execution_count": null,
   "id": "6046ae54-7095-4bed-899c-b17722ebe653",
   "metadata": {
    "id": "6046ae54-7095-4bed-899c-b17722ebe653"
   },
   "outputs": [],
   "source": [
    "X_train = train_dataset.drop([\"subject\", \"Activity\", \"Output\"], axis = 1)\n",
    "y_train = train_dataset[\"Output\"]\n",
    "X_train = np.array(X_train)\n",
    "y_train = np.array(y_train)\n",
    "X_train[:5], y_train[:5]"
   ]
  },
  {
   "cell_type": "code",
   "execution_count": null,
   "id": "47269c01-ab3a-439f-a16e-0f3fc2d42217",
   "metadata": {
    "id": "47269c01-ab3a-439f-a16e-0f3fc2d42217"
   },
   "outputs": [],
   "source": [
    "X_test = test_dataset.drop([\"subject\", \"Activity\", \"Output\"], axis = 1)\n",
    "y_test = test_dataset[\"Output\"]\n",
    "X_test = np.array(X_test)\n",
    "y_test = np.array(y_test)\n",
    "X_test[:5], y_test[:5]"
   ]
  },
  {
   "cell_type": "code",
   "execution_count": null,
   "id": "9ee8e355-1c90-40bf-a613-37b55aa00317",
   "metadata": {
    "id": "9ee8e355-1c90-40bf-a613-37b55aa00317"
   },
   "outputs": [],
   "source": [
    "X_train.shape, y_train.shape, X_test.shape, y_test.shape"
   ]
  },
  {
   "cell_type": "code",
   "execution_count": null,
   "id": "e9d2c072-edc4-4003-9588-fc14fa15fdc5",
   "metadata": {
    "id": "e9d2c072-edc4-4003-9588-fc14fa15fdc5"
   },
   "outputs": [],
   "source": [
    "# Group and count main names of columns\n",
    "both_df = pd.concat([train_dataset, test_dataset], axis=0).reset_index(drop=True)\n",
    "pd.DataFrame.from_dict(Counter([col.split('-')[0].split('(')[0] for col in both_df.columns]), orient='index').rename(columns={0:'count'}).sort_values('count', ascending=False)"
   ]
  },
  {
   "cell_type": "code",
   "execution_count": null,
   "id": "FTGBuaRYDBXm",
   "metadata": {
    "id": "FTGBuaRYDBXm"
   },
   "outputs": [],
   "source": [
    "sns.set(rc={'figure.figsize':(13,6)})\n",
    "fig = sns.countplot(x = \"Activity\" , data = train_dataset)\n",
    "plt.xlabel(\"Activity\")\n",
    "plt.ylabel(\"Count\")\n",
    "plt.title(\"Activity Count\")\n",
    "plt.grid(True)\n",
    "plt.show(fig)"
   ]
  },
  {
   "cell_type": "code",
   "execution_count": null,
   "id": "ORgmKtZcDZCI",
   "metadata": {
    "id": "ORgmKtZcDZCI"
   },
   "outputs": [],
   "source": [
    "sns.set(rc={'figure.figsize':(13,6)})\n",
    "fig = sns.countplot(x = \"Activity\" , data = test_dataset)\n",
    "plt.xlabel(\"Activity\")\n",
    "plt.ylabel(\"Count\")\n",
    "plt.title(\"Activity Count\")\n",
    "plt.grid(True)\n",
    "plt.show(fig)"
   ]
  },
  {
   "cell_type": "code",
   "execution_count": null,
   "id": "5c740aed-2c48-4a70-be64-957aa4a69170",
   "metadata": {
    "id": "5c740aed-2c48-4a70-be64-957aa4a69170"
   },
   "outputs": [],
   "source": [
    "from sklearn.model_selection import KFold, cross_val_score\n",
    "\n",
    "def kFoldCrossValidation(model_T, X_dataset, y_dataset, k = 3, epochs = 10):\n",
    "    iteration_cnt = 0\n",
    "    k_fold = KFold(n_splits=k)\n",
    "    for train_indices, test_indices in k_fold.split(X_dataset):\n",
    "        iteration_cnt += 1\n",
    "        print(f\"\\n------------------- ITERATION {iteration_cnt} ---------------------------\")\n",
    "        \n",
    "        model = model_T\n",
    "\n",
    "        model.compile(optimizer='adam',\n",
    "                      loss='sparse_categorical_crossentropy',\n",
    "                      metrics=['accuracy'])\n",
    "\n",
    "        log_dir = \"logs/fit/\" + datetime.datetime.now().strftime(\"%Y%m%d-%H%M%S\")\n",
    "        tensorboard_callback = tf.keras.callbacks.TensorBoard(log_dir=log_dir, histogram_freq=1)\n",
    "\n",
    "        model.fit(X_dataset[train_indices], y_dataset[train_indices], epochs=epochs, callbacks=[tensorboard_callback], verbose = 0)\n",
    "        score, acc = model.evaluate(X_dataset[test_indices], y_dataset[test_indices])\n",
    "        print('Test score:', score)\n",
    "        print('Test accuracy:', acc)"
   ]
  },
  {
   "cell_type": "code",
   "execution_count": null,
   "id": "06a39094-06cb-492b-9aba-8b4ee9638314",
   "metadata": {
    "id": "06a39094-06cb-492b-9aba-8b4ee9638314",
    "tags": []
   },
   "outputs": [],
   "source": [
    "# 1st Model\n",
    "model = keras.Sequential([\n",
    "            keras.layers.Dense(10, input_shape=(561,), activation='relu'),\n",
    "            keras.layers.Dense(6, activation='sigmoid')\n",
    "        ])\n",
    "\n",
    "kFoldCrossValidation(model, X_train, y_train, 5)\n",
    "\n",
    "print(model.summary())\n",
    "\n",
    "model.evaluate(X_test, y_test)\n",
    "\n",
    "# Confusion Matrix\n",
    "y_predicted = model.predict(X_test)\n",
    "y_predicted_labels = [np.argmax(i) for i in y_predicted]\n",
    "cm = tf.math.confusion_matrix(labels=y_test,predictions=y_predicted_labels)\n",
    "\n",
    "plt.figure(figsize = (10,7))\n",
    "sns.heatmap(cm, annot=True, fmt='d',xticklabels = activity_mapping.keys(), yticklabels = activity_mapping.keys())\n",
    "plt.xlabel('Predicted')\n",
    "plt.ylabel('Truth')\n",
    "\n",
    "from keras.utils.vis_utils import plot_model\n",
    "plot_model(model, to_file='model_plot.png', show_shapes=True, show_layer_names=True)"
   ]
  },
  {
   "cell_type": "code",
   "execution_count": null,
   "id": "vY7qbOtREsGI",
   "metadata": {
    "id": "vY7qbOtREsGI"
   },
   "outputs": [],
   "source": [
    "# Second Model\n",
    "model = keras.Sequential([\n",
    "            keras.layers.Dense(50, input_shape=(561,), activation='relu'),\n",
    "            keras.layers.Dense(6, activation='sigmoid')\n",
    "        ])\n",
    "\n",
    "kFoldCrossValidation(model, X_train, y_train, 5)\n",
    "\n",
    "print(model.summary())\n",
    "model.evaluate(X_test, y_test)\n",
    "\n",
    "# Confusion Matrix\n",
    "y_predicted = model.predict(X_test)\n",
    "y_predicted_labels = [np.argmax(i) for i in y_predicted]\n",
    "cm = tf.math.confusion_matrix(labels=y_test,predictions=y_predicted_labels)\n",
    "\n",
    "plt.figure(figsize = (10,7))\n",
    "sns.heatmap(cm, annot=True, fmt='d',xticklabels = activity_mapping.keys(), yticklabels = activity_mapping.keys())\n",
    "plt.xlabel('Predicted')\n",
    "plt.ylabel('Truth')\n",
    "\n",
    "from keras.utils.vis_utils import plot_model\n",
    "plot_model(model, show_shapes=True, show_layer_names=True)"
   ]
  },
  {
   "cell_type": "code",
   "execution_count": 17,
   "id": "Jqc9DRa_KUst",
   "metadata": {
    "colab": {
     "base_uri": "https://localhost:8080/",
     "height": 1000
    },
    "id": "Jqc9DRa_KUst",
    "outputId": "31a20bac-e6d2-48eb-c3a9-307fd739a83e"
   },
   "outputs": [
    {
     "name": "stdout",
     "output_type": "stream",
     "text": [
      "\n",
      "------------------- ITERATION 1 ---------------------------\n",
      "46/46 [==============================] - 0s 930us/step - loss: 0.0923 - accuracy: 0.9694\n",
      "Test score: 0.09227637201547623\n",
      "Test accuracy: 0.9694085717201233\n",
      "\n",
      "------------------- ITERATION 2 ---------------------------\n",
      "46/46 [==============================] - 0s 971us/step - loss: 0.0161 - accuracy: 0.9946\n",
      "Test score: 0.016118528321385384\n",
      "Test accuracy: 0.994561493396759\n",
      "\n",
      "------------------- ITERATION 3 ---------------------------\n",
      "46/46 [==============================] - 0s 972us/step - loss: 0.0088 - accuracy: 0.9973\n",
      "Test score: 0.008785681799054146\n",
      "Test accuracy: 0.9972789287567139\n",
      "\n",
      "------------------- ITERATION 4 ---------------------------\n",
      "46/46 [==============================] - 0s 977us/step - loss: 5.2921e-04 - accuracy: 1.0000\n",
      "Test score: 0.0005292091518640518\n",
      "Test accuracy: 1.0\n",
      "\n",
      "------------------- ITERATION 5 ---------------------------\n",
      "46/46 [==============================] - 0s 1ms/step - loss: 0.0092 - accuracy: 0.9973\n",
      "Test score: 0.009235486388206482\n",
      "Test accuracy: 0.9972789287567139\n",
      "Model: \"sequential_2\"\n",
      "_________________________________________________________________\n",
      "Layer (type)                 Output Shape              Param #   \n",
      "=================================================================\n",
      "dense_4 (Dense)              (None, 100)               56200     \n",
      "_________________________________________________________________\n",
      "dense_5 (Dense)              (None, 6)                 606       \n",
      "=================================================================\n",
      "Total params: 56,806\n",
      "Trainable params: 56,806\n",
      "Non-trainable params: 0\n",
      "_________________________________________________________________\n",
      "None\n",
      "93/93 [==============================] - 0s 1ms/step - loss: 0.3941 - accuracy: 0.9501\n"
     ]
    },
    {
     "data": {
      "image/png": "[encoded data removed]",
      "text/plain": [
       "<IPython.core.display.Image object>"
      ]
     },
     "execution_count": 17,
     "metadata": {
      "tags": []
     },
     "output_type": "execute_result"
    },
    {
     "data": {
      "image/png": "[encoded data removed]",
      "text/plain": [
       "<Figure size 720x504 with 2 Axes>"
      ]
     },
     "metadata": {
      "tags": []
     },
     "output_type": "display_data"
    }
   ],
   "source": [
    "# 3rd Model\n",
    "model = keras.Sequential([\n",
    "            keras.layers.Dense(100, input_shape=(561,), activation='relu'),\n",
    "            keras.layers.Dense(6, activation='sigmoid')\n",
    "        ])\n",
    "\n",
    "kFoldCrossValidation(model, X_train, y_train, 5,epochs=100)\n",
    "\n",
    "print(model.summary())\n",
    "model.evaluate(X_test, y_test)\n",
    "\n",
    "# Confusion Matrix\n",
    "y_predicted = model.predict(X_test)\n",
    "y_predicted_labels = [np.argmax(i) for i in y_predicted]\n",
    "cm = tf.math.confusion_matrix(labels=y_test,predictions=y_predicted_labels)\n",
    "\n",
    "plt.figure(figsize = (10,7))\n",
    "sns.heatmap(cm, annot=True, fmt='d',xticklabels = activity_mapping.keys(), yticklabels = activity_mapping.keys())\n",
    "plt.xlabel('Predicted')\n",
    "plt.ylabel('Truth')\n",
    "\n",
    "from keras.utils.vis_utils import plot_model\n",
    "plot_model(model, show_shapes=True, show_layer_names=True)"
   ]
  },
  {
   "cell_type": "code",
   "execution_count": null,
   "id": "YRsIW8GOLNfG",
   "metadata": {
    "id": "YRsIW8GOLNfG"
   },
   "outputs": [],
   "source": [
    "# 4rd Model\n",
    "model = keras.Sequential([\n",
    "            keras.layers.Dense(100, input_shape=(561,), activation='relu'),\n",
    "            keras.layers.Dense(6, activation='sigmoid')\n",
    "        ])\n",
    "\n",
    "\n",
    "model.compile(optimizer='adam',\n",
    "              loss='sparse_categorical_crossentropy',\n",
    "              metrics=['accuracy'])\n",
    "\n",
    "log_dir = \"logs/fit/\" + datetime.datetime.now().strftime(\"%Y%m%d-%H%M%S\")\n",
    "tensorboard_callback = tf.keras.callbacks.TensorBoard(log_dir=log_dir, histogram_freq=1)\n",
    "\n",
    "model.fit(X_train, y_train, epochs=100, callbacks=[tensorboard_callback], verbose = 0)\n",
    "\n",
    "print(model.summary())\n",
    "model.evaluate(X_test, y_test)\n",
    "\n",
    "# Confusion Matrix\n",
    "y_predicted = model.predict(X_test)\n",
    "y_predicted_labels = [np.argmax(i) for i in y_predicted]\n",
    "cm = tf.math.confusion_matrix(labels=y_test,predictions=y_predicted_labels)\n",
    "\n",
    "plt.figure(figsize = (10,7))\n",
    "sns.heatmap(cm, annot=True, fmt='d',xticklabels = activity_mapping.keys(), yticklabels = activity_mapping.keys())\n",
    "plt.xlabel('Predicted')\n",
    "plt.ylabel('Truth')\n",
    "\n",
    "from keras.utils.vis_utils import plot_model\n",
    "plot_model(model, show_shapes=True, show_layer_names=True)"
   ]
  },
  {
   "cell_type": "code",
   "execution_count": null,
   "id": "KL9jSbZVMgYO",
   "metadata": {
    "id": "KL9jSbZVMgYO"
   },
   "outputs": [],
   "source": [
    "# 5rd Model\n",
    "model = keras.Sequential([\n",
    "            keras.layers.Dense(100, input_shape=(561,), activation='relu'),\n",
    "            keras.layers.Dense(50, input_shape=(561,), activation='relu'),\n",
    "            keras.layers.Dense(6, activation='sigmoid')\n",
    "        ])\n",
    "\n",
    "\n",
    "model.compile(optimizer='adam',\n",
    "              loss='sparse_categorical_crossentropy',\n",
    "              metrics=['accuracy'])\n",
    "\n",
    "log_dir = \"logs/fit/\" + datetime.datetime.now().strftime(\"%Y%m%d-%H%M%S\")\n",
    "tensorboard_callback = tf.keras.callbacks.TensorBoard(log_dir=log_dir, histogram_freq=1)\n",
    "\n",
    "model.fit(X_train, y_train, epochs=100, callbacks=[tensorboard_callback], verbose = 0)\n",
    "\n",
    "print(model.summary())\n",
    "model.evaluate(X_test, y_test)\n",
    "\n",
    "# Confusion Matrix\n",
    "y_predicted = model.predict(X_test)\n",
    "y_predicted_labels = [np.argmax(i) for i in y_predicted]\n",
    "cm = tf.math.confusion_matrix(labels=y_test,predictions=y_predicted_labels)\n",
    "\n",
    "plt.figure(figsize = (10,7))\n",
    "sns.heatmap(cm, annot=True, fmt='d',xticklabels = activity_mapping.keys(), yticklabels = activity_mapping.keys())\n",
    "plt.xlabel('Predicted')\n",
    "plt.ylabel('Truth')\n",
    "\n",
    "from keras.utils.vis_utils import plot_model\n",
    "plot_model(model, show_shapes=True, show_layer_names=True)"
   ]
  },
  {
   "cell_type": "code",
   "execution_count": null,
   "id": "CBM7dvxKNAql",
   "metadata": {
    "id": "CBM7dvxKNAql"
   },
   "outputs": [],
   "source": [
    "# 6rd Model\n",
    "model = keras.Sequential([\n",
    "            keras.layers.Dense(100, input_shape=(561,), activation='tanh'),\n",
    "            keras.layers.Dense(6, activation='sigmoid')\n",
    "        ])\n",
    "\n",
    "\n",
    "model.compile(optimizer='adam',\n",
    "              loss='sparse_categorical_crossentropy',\n",
    "              metrics=['accuracy'])\n",
    "\n",
    "log_dir = \"logs/fit/\" + datetime.datetime.now().strftime(\"%Y%m%d-%H%M%S\")\n",
    "tensorboard_callback = tf.keras.callbacks.TensorBoard(log_dir=log_dir, histogram_freq=1)\n",
    "\n",
    "model.fit(X_train, y_train, epochs=100, callbacks=[tensorboard_callback], verbose = 0)\n",
    "\n",
    "print(model.summary())\n",
    "model.evaluate(X_test, y_test)\n",
    "\n",
    "# Confusion Matrix\n",
    "y_predicted = model.predict(X_test)\n",
    "y_predicted_labels = [np.argmax(i) for i in y_predicted]\n",
    "cm = tf.math.confusion_matrix(labels=y_test,predictions=y_predicted_labels)\n",
    "\n",
    "plt.figure(figsize = (10,7))\n",
    "sns.heatmap(cm, annot=True, fmt='d',xticklabels = activity_mapping.keys(), yticklabels = activity_mapping.keys())\n",
    "plt.xlabel('Predicted')\n",
    "plt.ylabel('Truth')\n",
    "\n",
    "from keras.utils.vis_utils import plot_model\n",
    "plot_model(model, show_shapes=True, show_layer_names=True)"
   ]
  },
  {
   "cell_type": "code",
   "execution_count": null,
   "id": "WlJh1N9HGejL",
   "metadata": {
    "id": "WlJh1N9HGejL"
   },
   "outputs": [],
   "source": [
    "%tensorboard --logdir logs/fit"
   ]
  },
  {
   "cell_type": "code",
   "execution_count": null,
   "id": "xbVaycPEEwGd",
   "metadata": {
    "id": "xbVaycPEEwGd"
   },
   "outputs": [],
   "source": [
    "!pip install shap\n",
    "import shap\n",
    "\n",
    "# select a set of background examples to take an expectation over\n",
    "background = X_train[np.random.choice(X_train.shape[0], 500, replace=False)]\n",
    "\n",
    "\n",
    "# explain predictions of the model\n",
    "e = shap.DeepExplainer(model, background)\n",
    "\n",
    "shap_values = e.shap_values(X_test[np.random.choice(X_test.shape[0], 20, replace=False)])"
   ]
  },
  {
   "cell_type": "code",
   "execution_count": null,
   "id": "dy1urpfyE0Rf",
   "metadata": {
    "id": "dy1urpfyE0Rf"
   },
   "outputs": [],
   "source": [
    "# plot the feature attributions\n",
    "shap.summary_plot(shap_values, -X_test[1:5], class_names = list(activity_mapping.keys()), feature_names = test_dataset.columns.values)"
   ]
  }
 ],
 "metadata": {
  "colab": {
   "collapsed_sections": [],
   "name": "NeuralNetworkHumanActivityUpdated.ipynb",
   "provenance": []
  },
  "kernelspec": {
   "display_name": "Python 3",
   "language": "python",
   "name": "python3"
  },
  "language_info": {
   "codemirror_mode": {
    "name": "ipython",
    "version": 3
   },
   "file_extension": ".py",
   "mimetype": "text/x-python",
   "name": "python",
   "nbconvert_exporter": "python",
   "pygments_lexer": "ipython3",
   "version": "3.8.5"
  }
 },
 "nbformat": 4,
 "nbformat_minor": 5
}
